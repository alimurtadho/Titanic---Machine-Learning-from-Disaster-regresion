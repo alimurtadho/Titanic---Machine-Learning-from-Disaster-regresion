{
 "cells": [
  {
   "cell_type": "code",
   "execution_count": 1,
   "id": "0204b1d6",
   "metadata": {
    "_cell_guid": "b1076dfc-b9ad-4769-8c92-a6c4dae69d19",
    "_uuid": "8f2839f25d086af736a60e9eeb907d3b93b6e0e5",
    "execution": {
     "iopub.execute_input": "2021-10-28T10:07:20.257915Z",
     "iopub.status.busy": "2021-10-28T10:07:20.256071Z",
     "iopub.status.idle": "2021-10-28T10:07:20.276261Z",
     "shell.execute_reply": "2021-10-28T10:07:20.275583Z",
     "shell.execute_reply.started": "2021-10-28T09:36:54.437431Z"
    },
    "papermill": {
     "duration": 0.064953,
     "end_time": "2021-10-28T10:07:20.276480",
     "exception": false,
     "start_time": "2021-10-28T10:07:20.211527",
     "status": "completed"
    },
    "tags": []
   },
   "outputs": [
    {
     "name": "stdout",
     "output_type": "stream",
     "text": [
      "/kaggle/input/titanic/train.csv\n",
      "/kaggle/input/titanic/test.csv\n",
      "/kaggle/input/titanic/gender_submission.csv\n"
     ]
    }
   ],
   "source": [
    "# This Python 3 environment comes with many helpful analytics libraries installed\n",
    "# It is defined by the kaggle/python Docker image: https://github.com/kaggle/docker-python\n",
    "# For example, here's several helpful packages to load\n",
    "\n",
    "import numpy as np # linear algebra\n",
    "import pandas as pd # data processing, CSV file I/O (e.g. pd.read_csv)\n",
    "\n",
    "# Input data files are available in the read-only \"../input/\" directory\n",
    "# For example, running this (by clicking run or pressing Shift+Enter) will list all files under the input directory\n",
    "\n",
    "import os\n",
    "for dirname, _, filenames in os.walk('/kaggle/input'):\n",
    "    for filename in filenames:\n",
    "        print(os.path.join(dirname, filename))\n",
    "\n",
    "# You can write up to 20GB to the current directory (/kaggle/working/) that gets preserved as output when you create a version using \"Save & Run All\" \n",
    "# You can also write temporary files to /kaggle/temp/, but they won't be saved outside of the current session"
   ]
  },
  {
   "cell_type": "code",
   "execution_count": 2,
   "id": "4214344c",
   "metadata": {
    "execution": {
     "iopub.execute_input": "2021-10-28T10:07:20.358812Z",
     "iopub.status.busy": "2021-10-28T10:07:20.357821Z",
     "iopub.status.idle": "2021-10-28T10:07:21.362944Z",
     "shell.execute_reply": "2021-10-28T10:07:21.363431Z",
     "shell.execute_reply.started": "2021-10-28T09:36:54.477956Z"
    },
    "papermill": {
     "duration": 1.047592,
     "end_time": "2021-10-28T10:07:21.363675",
     "exception": false,
     "start_time": "2021-10-28T10:07:20.316083",
     "status": "completed"
    },
    "tags": []
   },
   "outputs": [],
   "source": [
    "import numpy as np#import all necessary libraries\n",
    "import pandas as pd\n",
    "import matplotlib.pyplot as plt\n",
    "import seaborn as sns\n",
    "%matplotlib inline"
   ]
  },
  {
   "cell_type": "code",
   "execution_count": 3,
   "id": "008fd9cf",
   "metadata": {
    "execution": {
     "iopub.execute_input": "2021-10-28T10:07:21.447832Z",
     "iopub.status.busy": "2021-10-28T10:07:21.447141Z",
     "iopub.status.idle": "2021-10-28T10:07:21.477509Z",
     "shell.execute_reply": "2021-10-28T10:07:21.478030Z",
     "shell.execute_reply.started": "2021-10-28T09:36:55.385910Z"
    },
    "papermill": {
     "duration": 0.075894,
     "end_time": "2021-10-28T10:07:21.478224",
     "exception": false,
     "start_time": "2021-10-28T10:07:21.402330",
     "status": "completed"
    },
    "tags": []
   },
   "outputs": [],
   "source": [
    "train=pd.read_csv(\"../input/titanic/train.csv\")#import the dataset\n",
    "test=pd.read_csv(\"../input/titanic/train.csv\")"
   ]
  },
  {
   "cell_type": "code",
   "execution_count": 4,
   "id": "73b98dc5",
   "metadata": {
    "execution": {
     "iopub.execute_input": "2021-10-28T10:07:21.560623Z",
     "iopub.status.busy": "2021-10-28T10:07:21.559914Z",
     "iopub.status.idle": "2021-10-28T10:07:21.584175Z",
     "shell.execute_reply": "2021-10-28T10:07:21.584697Z",
     "shell.execute_reply.started": "2021-10-28T09:36:55.414605Z"
    },
    "papermill": {
     "duration": 0.067262,
     "end_time": "2021-10-28T10:07:21.584908",
     "exception": false,
     "start_time": "2021-10-28T10:07:21.517646",
     "status": "completed"
    },
    "tags": []
   },
   "outputs": [
    {
     "data": {
      "text/html": [
       "<div>\n",
       "<style scoped>\n",
       "    .dataframe tbody tr th:only-of-type {\n",
       "        vertical-align: middle;\n",
       "    }\n",
       "\n",
       "    .dataframe tbody tr th {\n",
       "        vertical-align: top;\n",
       "    }\n",
       "\n",
       "    .dataframe thead th {\n",
       "        text-align: right;\n",
       "    }\n",
       "</style>\n",
       "<table border=\"1\" class=\"dataframe\">\n",
       "  <thead>\n",
       "    <tr style=\"text-align: right;\">\n",
       "      <th></th>\n",
       "      <th>PassengerId</th>\n",
       "      <th>Survived</th>\n",
       "      <th>Pclass</th>\n",
       "      <th>Name</th>\n",
       "      <th>Sex</th>\n",
       "      <th>Age</th>\n",
       "      <th>SibSp</th>\n",
       "      <th>Parch</th>\n",
       "      <th>Ticket</th>\n",
       "      <th>Fare</th>\n",
       "      <th>Cabin</th>\n",
       "      <th>Embarked</th>\n",
       "    </tr>\n",
       "  </thead>\n",
       "  <tbody>\n",
       "    <tr>\n",
       "      <th>0</th>\n",
       "      <td>1</td>\n",
       "      <td>0</td>\n",
       "      <td>3</td>\n",
       "      <td>Braund, Mr. Owen Harris</td>\n",
       "      <td>male</td>\n",
       "      <td>22.0</td>\n",
       "      <td>1</td>\n",
       "      <td>0</td>\n",
       "      <td>A/5 21171</td>\n",
       "      <td>7.2500</td>\n",
       "      <td>NaN</td>\n",
       "      <td>S</td>\n",
       "    </tr>\n",
       "    <tr>\n",
       "      <th>1</th>\n",
       "      <td>2</td>\n",
       "      <td>1</td>\n",
       "      <td>1</td>\n",
       "      <td>Cumings, Mrs. John Bradley (Florence Briggs Th...</td>\n",
       "      <td>female</td>\n",
       "      <td>38.0</td>\n",
       "      <td>1</td>\n",
       "      <td>0</td>\n",
       "      <td>PC 17599</td>\n",
       "      <td>71.2833</td>\n",
       "      <td>C85</td>\n",
       "      <td>C</td>\n",
       "    </tr>\n",
       "    <tr>\n",
       "      <th>2</th>\n",
       "      <td>3</td>\n",
       "      <td>1</td>\n",
       "      <td>3</td>\n",
       "      <td>Heikkinen, Miss. Laina</td>\n",
       "      <td>female</td>\n",
       "      <td>26.0</td>\n",
       "      <td>0</td>\n",
       "      <td>0</td>\n",
       "      <td>STON/O2. 3101282</td>\n",
       "      <td>7.9250</td>\n",
       "      <td>NaN</td>\n",
       "      <td>S</td>\n",
       "    </tr>\n",
       "    <tr>\n",
       "      <th>3</th>\n",
       "      <td>4</td>\n",
       "      <td>1</td>\n",
       "      <td>1</td>\n",
       "      <td>Futrelle, Mrs. Jacques Heath (Lily May Peel)</td>\n",
       "      <td>female</td>\n",
       "      <td>35.0</td>\n",
       "      <td>1</td>\n",
       "      <td>0</td>\n",
       "      <td>113803</td>\n",
       "      <td>53.1000</td>\n",
       "      <td>C123</td>\n",
       "      <td>S</td>\n",
       "    </tr>\n",
       "    <tr>\n",
       "      <th>4</th>\n",
       "      <td>5</td>\n",
       "      <td>0</td>\n",
       "      <td>3</td>\n",
       "      <td>Allen, Mr. William Henry</td>\n",
       "      <td>male</td>\n",
       "      <td>35.0</td>\n",
       "      <td>0</td>\n",
       "      <td>0</td>\n",
       "      <td>373450</td>\n",
       "      <td>8.0500</td>\n",
       "      <td>NaN</td>\n",
       "      <td>S</td>\n",
       "    </tr>\n",
       "  </tbody>\n",
       "</table>\n",
       "</div>"
      ],
      "text/plain": [
       "   PassengerId  Survived  Pclass  \\\n",
       "0            1         0       3   \n",
       "1            2         1       1   \n",
       "2            3         1       3   \n",
       "3            4         1       1   \n",
       "4            5         0       3   \n",
       "\n",
       "                                                Name     Sex   Age  SibSp  \\\n",
       "0                            Braund, Mr. Owen Harris    male  22.0      1   \n",
       "1  Cumings, Mrs. John Bradley (Florence Briggs Th...  female  38.0      1   \n",
       "2                             Heikkinen, Miss. Laina  female  26.0      0   \n",
       "3       Futrelle, Mrs. Jacques Heath (Lily May Peel)  female  35.0      1   \n",
       "4                           Allen, Mr. William Henry    male  35.0      0   \n",
       "\n",
       "   Parch            Ticket     Fare Cabin Embarked  \n",
       "0      0         A/5 21171   7.2500   NaN        S  \n",
       "1      0          PC 17599  71.2833   C85        C  \n",
       "2      0  STON/O2. 3101282   7.9250   NaN        S  \n",
       "3      0            113803  53.1000  C123        S  \n",
       "4      0            373450   8.0500   NaN        S  "
      ]
     },
     "execution_count": 4,
     "metadata": {},
     "output_type": "execute_result"
    }
   ],
   "source": [
    "train.head()"
   ]
  },
  {
   "cell_type": "code",
   "execution_count": 5,
   "id": "357875ff",
   "metadata": {
    "execution": {
     "iopub.execute_input": "2021-10-28T10:07:21.667760Z",
     "iopub.status.busy": "2021-10-28T10:07:21.667081Z",
     "iopub.status.idle": "2021-10-28T10:07:21.682012Z",
     "shell.execute_reply": "2021-10-28T10:07:21.682652Z",
     "shell.execute_reply.started": "2021-10-28T09:36:55.443447Z"
    },
    "papermill": {
     "duration": 0.058522,
     "end_time": "2021-10-28T10:07:21.682842",
     "exception": false,
     "start_time": "2021-10-28T10:07:21.624320",
     "status": "completed"
    },
    "tags": []
   },
   "outputs": [
    {
     "data": {
      "text/html": [
       "<div>\n",
       "<style scoped>\n",
       "    .dataframe tbody tr th:only-of-type {\n",
       "        vertical-align: middle;\n",
       "    }\n",
       "\n",
       "    .dataframe tbody tr th {\n",
       "        vertical-align: top;\n",
       "    }\n",
       "\n",
       "    .dataframe thead th {\n",
       "        text-align: right;\n",
       "    }\n",
       "</style>\n",
       "<table border=\"1\" class=\"dataframe\">\n",
       "  <thead>\n",
       "    <tr style=\"text-align: right;\">\n",
       "      <th></th>\n",
       "      <th>PassengerId</th>\n",
       "      <th>Survived</th>\n",
       "      <th>Pclass</th>\n",
       "      <th>Name</th>\n",
       "      <th>Sex</th>\n",
       "      <th>Age</th>\n",
       "      <th>SibSp</th>\n",
       "      <th>Parch</th>\n",
       "      <th>Ticket</th>\n",
       "      <th>Fare</th>\n",
       "      <th>Cabin</th>\n",
       "      <th>Embarked</th>\n",
       "    </tr>\n",
       "  </thead>\n",
       "  <tbody>\n",
       "    <tr>\n",
       "      <th>0</th>\n",
       "      <td>1</td>\n",
       "      <td>0</td>\n",
       "      <td>3</td>\n",
       "      <td>Braund, Mr. Owen Harris</td>\n",
       "      <td>male</td>\n",
       "      <td>22.0</td>\n",
       "      <td>1</td>\n",
       "      <td>0</td>\n",
       "      <td>A/5 21171</td>\n",
       "      <td>7.2500</td>\n",
       "      <td>NaN</td>\n",
       "      <td>S</td>\n",
       "    </tr>\n",
       "    <tr>\n",
       "      <th>1</th>\n",
       "      <td>2</td>\n",
       "      <td>1</td>\n",
       "      <td>1</td>\n",
       "      <td>Cumings, Mrs. John Bradley (Florence Briggs Th...</td>\n",
       "      <td>female</td>\n",
       "      <td>38.0</td>\n",
       "      <td>1</td>\n",
       "      <td>0</td>\n",
       "      <td>PC 17599</td>\n",
       "      <td>71.2833</td>\n",
       "      <td>C85</td>\n",
       "      <td>C</td>\n",
       "    </tr>\n",
       "    <tr>\n",
       "      <th>2</th>\n",
       "      <td>3</td>\n",
       "      <td>1</td>\n",
       "      <td>3</td>\n",
       "      <td>Heikkinen, Miss. Laina</td>\n",
       "      <td>female</td>\n",
       "      <td>26.0</td>\n",
       "      <td>0</td>\n",
       "      <td>0</td>\n",
       "      <td>STON/O2. 3101282</td>\n",
       "      <td>7.9250</td>\n",
       "      <td>NaN</td>\n",
       "      <td>S</td>\n",
       "    </tr>\n",
       "    <tr>\n",
       "      <th>3</th>\n",
       "      <td>4</td>\n",
       "      <td>1</td>\n",
       "      <td>1</td>\n",
       "      <td>Futrelle, Mrs. Jacques Heath (Lily May Peel)</td>\n",
       "      <td>female</td>\n",
       "      <td>35.0</td>\n",
       "      <td>1</td>\n",
       "      <td>0</td>\n",
       "      <td>113803</td>\n",
       "      <td>53.1000</td>\n",
       "      <td>C123</td>\n",
       "      <td>S</td>\n",
       "    </tr>\n",
       "    <tr>\n",
       "      <th>4</th>\n",
       "      <td>5</td>\n",
       "      <td>0</td>\n",
       "      <td>3</td>\n",
       "      <td>Allen, Mr. William Henry</td>\n",
       "      <td>male</td>\n",
       "      <td>35.0</td>\n",
       "      <td>0</td>\n",
       "      <td>0</td>\n",
       "      <td>373450</td>\n",
       "      <td>8.0500</td>\n",
       "      <td>NaN</td>\n",
       "      <td>S</td>\n",
       "    </tr>\n",
       "  </tbody>\n",
       "</table>\n",
       "</div>"
      ],
      "text/plain": [
       "   PassengerId  Survived  Pclass  \\\n",
       "0            1         0       3   \n",
       "1            2         1       1   \n",
       "2            3         1       3   \n",
       "3            4         1       1   \n",
       "4            5         0       3   \n",
       "\n",
       "                                                Name     Sex   Age  SibSp  \\\n",
       "0                            Braund, Mr. Owen Harris    male  22.0      1   \n",
       "1  Cumings, Mrs. John Bradley (Florence Briggs Th...  female  38.0      1   \n",
       "2                             Heikkinen, Miss. Laina  female  26.0      0   \n",
       "3       Futrelle, Mrs. Jacques Heath (Lily May Peel)  female  35.0      1   \n",
       "4                           Allen, Mr. William Henry    male  35.0      0   \n",
       "\n",
       "   Parch            Ticket     Fare Cabin Embarked  \n",
       "0      0         A/5 21171   7.2500   NaN        S  \n",
       "1      0          PC 17599  71.2833   C85        C  \n",
       "2      0  STON/O2. 3101282   7.9250   NaN        S  \n",
       "3      0            113803  53.1000  C123        S  \n",
       "4      0            373450   8.0500   NaN        S  "
      ]
     },
     "execution_count": 5,
     "metadata": {},
     "output_type": "execute_result"
    }
   ],
   "source": [
    "test.head()"
   ]
  },
  {
   "cell_type": "code",
   "execution_count": 6,
   "id": "14e2d70e",
   "metadata": {
    "execution": {
     "iopub.execute_input": "2021-10-28T10:07:21.775300Z",
     "iopub.status.busy": "2021-10-28T10:07:21.774247Z",
     "iopub.status.idle": "2021-10-28T10:07:21.788127Z",
     "shell.execute_reply": "2021-10-28T10:07:21.788864Z",
     "shell.execute_reply.started": "2021-10-28T09:36:55.461815Z"
    },
    "papermill": {
     "duration": 0.065224,
     "end_time": "2021-10-28T10:07:21.789082",
     "exception": false,
     "start_time": "2021-10-28T10:07:21.723858",
     "status": "completed"
    },
    "tags": []
   },
   "outputs": [
    {
     "data": {
      "text/html": [
       "<div>\n",
       "<style scoped>\n",
       "    .dataframe tbody tr th:only-of-type {\n",
       "        vertical-align: middle;\n",
       "    }\n",
       "\n",
       "    .dataframe tbody tr th {\n",
       "        vertical-align: top;\n",
       "    }\n",
       "\n",
       "    .dataframe thead th {\n",
       "        text-align: right;\n",
       "    }\n",
       "</style>\n",
       "<table border=\"1\" class=\"dataframe\">\n",
       "  <thead>\n",
       "    <tr style=\"text-align: right;\">\n",
       "      <th></th>\n",
       "      <th>PassengerId</th>\n",
       "      <th>Survived</th>\n",
       "      <th>Pclass</th>\n",
       "      <th>Name</th>\n",
       "      <th>Sex</th>\n",
       "      <th>Age</th>\n",
       "      <th>SibSp</th>\n",
       "      <th>Parch</th>\n",
       "      <th>Ticket</th>\n",
       "      <th>Fare</th>\n",
       "      <th>Cabin</th>\n",
       "      <th>Embarked</th>\n",
       "    </tr>\n",
       "  </thead>\n",
       "  <tbody>\n",
       "    <tr>\n",
       "      <th>0</th>\n",
       "      <td>1</td>\n",
       "      <td>0</td>\n",
       "      <td>3</td>\n",
       "      <td>Braund, Mr. Owen Harris</td>\n",
       "      <td>male</td>\n",
       "      <td>22.0</td>\n",
       "      <td>1</td>\n",
       "      <td>0</td>\n",
       "      <td>A/5 21171</td>\n",
       "      <td>7.2500</td>\n",
       "      <td>NaN</td>\n",
       "      <td>S</td>\n",
       "    </tr>\n",
       "    <tr>\n",
       "      <th>1</th>\n",
       "      <td>2</td>\n",
       "      <td>1</td>\n",
       "      <td>1</td>\n",
       "      <td>Cumings, Mrs. John Bradley (Florence Briggs Th...</td>\n",
       "      <td>female</td>\n",
       "      <td>38.0</td>\n",
       "      <td>1</td>\n",
       "      <td>0</td>\n",
       "      <td>PC 17599</td>\n",
       "      <td>71.2833</td>\n",
       "      <td>C85</td>\n",
       "      <td>C</td>\n",
       "    </tr>\n",
       "    <tr>\n",
       "      <th>2</th>\n",
       "      <td>3</td>\n",
       "      <td>1</td>\n",
       "      <td>3</td>\n",
       "      <td>Heikkinen, Miss. Laina</td>\n",
       "      <td>female</td>\n",
       "      <td>26.0</td>\n",
       "      <td>0</td>\n",
       "      <td>0</td>\n",
       "      <td>STON/O2. 3101282</td>\n",
       "      <td>7.9250</td>\n",
       "      <td>NaN</td>\n",
       "      <td>S</td>\n",
       "    </tr>\n",
       "    <tr>\n",
       "      <th>3</th>\n",
       "      <td>4</td>\n",
       "      <td>1</td>\n",
       "      <td>1</td>\n",
       "      <td>Futrelle, Mrs. Jacques Heath (Lily May Peel)</td>\n",
       "      <td>female</td>\n",
       "      <td>35.0</td>\n",
       "      <td>1</td>\n",
       "      <td>0</td>\n",
       "      <td>113803</td>\n",
       "      <td>53.1000</td>\n",
       "      <td>C123</td>\n",
       "      <td>S</td>\n",
       "    </tr>\n",
       "    <tr>\n",
       "      <th>4</th>\n",
       "      <td>5</td>\n",
       "      <td>0</td>\n",
       "      <td>3</td>\n",
       "      <td>Allen, Mr. William Henry</td>\n",
       "      <td>male</td>\n",
       "      <td>35.0</td>\n",
       "      <td>0</td>\n",
       "      <td>0</td>\n",
       "      <td>373450</td>\n",
       "      <td>8.0500</td>\n",
       "      <td>NaN</td>\n",
       "      <td>S</td>\n",
       "    </tr>\n",
       "  </tbody>\n",
       "</table>\n",
       "</div>"
      ],
      "text/plain": [
       "   PassengerId  Survived  Pclass  \\\n",
       "0            1         0       3   \n",
       "1            2         1       1   \n",
       "2            3         1       3   \n",
       "3            4         1       1   \n",
       "4            5         0       3   \n",
       "\n",
       "                                                Name     Sex   Age  SibSp  \\\n",
       "0                            Braund, Mr. Owen Harris    male  22.0      1   \n",
       "1  Cumings, Mrs. John Bradley (Florence Briggs Th...  female  38.0      1   \n",
       "2                             Heikkinen, Miss. Laina  female  26.0      0   \n",
       "3       Futrelle, Mrs. Jacques Heath (Lily May Peel)  female  35.0      1   \n",
       "4                           Allen, Mr. William Henry    male  35.0      0   \n",
       "\n",
       "   Parch            Ticket     Fare Cabin Embarked  \n",
       "0      0         A/5 21171   7.2500   NaN        S  \n",
       "1      0          PC 17599  71.2833   C85        C  \n",
       "2      0  STON/O2. 3101282   7.9250   NaN        S  \n",
       "3      0            113803  53.1000  C123        S  \n",
       "4      0            373450   8.0500   NaN        S  "
      ]
     },
     "execution_count": 6,
     "metadata": {},
     "output_type": "execute_result"
    }
   ],
   "source": [
    "#store the passengerid of test data\n",
    "passenger_id=test[\"PassengerId\"]\n",
    "train.head()"
   ]
  },
  {
   "cell_type": "code",
   "execution_count": 7,
   "id": "0f8de664",
   "metadata": {
    "execution": {
     "iopub.execute_input": "2021-10-28T10:07:21.892605Z",
     "iopub.status.busy": "2021-10-28T10:07:21.891774Z",
     "iopub.status.idle": "2021-10-28T10:07:21.895218Z",
     "shell.execute_reply": "2021-10-28T10:07:21.895727Z",
     "shell.execute_reply.started": "2021-10-28T09:36:55.482325Z"
    },
    "papermill": {
     "duration": 0.06633,
     "end_time": "2021-10-28T10:07:21.895899",
     "exception": false,
     "start_time": "2021-10-28T10:07:21.829569",
     "status": "completed"
    },
    "tags": []
   },
   "outputs": [
    {
     "data": {
      "text/html": [
       "<div>\n",
       "<style scoped>\n",
       "    .dataframe tbody tr th:only-of-type {\n",
       "        vertical-align: middle;\n",
       "    }\n",
       "\n",
       "    .dataframe tbody tr th {\n",
       "        vertical-align: top;\n",
       "    }\n",
       "\n",
       "    .dataframe thead th {\n",
       "        text-align: right;\n",
       "    }\n",
       "</style>\n",
       "<table border=\"1\" class=\"dataframe\">\n",
       "  <thead>\n",
       "    <tr style=\"text-align: right;\">\n",
       "      <th></th>\n",
       "      <th>Survived</th>\n",
       "      <th>Pclass</th>\n",
       "      <th>Name</th>\n",
       "      <th>Sex</th>\n",
       "      <th>Age</th>\n",
       "      <th>SibSp</th>\n",
       "      <th>Parch</th>\n",
       "      <th>Ticket</th>\n",
       "      <th>Fare</th>\n",
       "      <th>Cabin</th>\n",
       "      <th>Embarked</th>\n",
       "    </tr>\n",
       "    <tr>\n",
       "      <th>PassengerId</th>\n",
       "      <th></th>\n",
       "      <th></th>\n",
       "      <th></th>\n",
       "      <th></th>\n",
       "      <th></th>\n",
       "      <th></th>\n",
       "      <th></th>\n",
       "      <th></th>\n",
       "      <th></th>\n",
       "      <th></th>\n",
       "      <th></th>\n",
       "    </tr>\n",
       "  </thead>\n",
       "  <tbody>\n",
       "    <tr>\n",
       "      <th>1</th>\n",
       "      <td>0</td>\n",
       "      <td>3</td>\n",
       "      <td>Braund, Mr. Owen Harris</td>\n",
       "      <td>male</td>\n",
       "      <td>22.0</td>\n",
       "      <td>1</td>\n",
       "      <td>0</td>\n",
       "      <td>A/5 21171</td>\n",
       "      <td>7.2500</td>\n",
       "      <td>NaN</td>\n",
       "      <td>S</td>\n",
       "    </tr>\n",
       "    <tr>\n",
       "      <th>2</th>\n",
       "      <td>1</td>\n",
       "      <td>1</td>\n",
       "      <td>Cumings, Mrs. John Bradley (Florence Briggs Th...</td>\n",
       "      <td>female</td>\n",
       "      <td>38.0</td>\n",
       "      <td>1</td>\n",
       "      <td>0</td>\n",
       "      <td>PC 17599</td>\n",
       "      <td>71.2833</td>\n",
       "      <td>C85</td>\n",
       "      <td>C</td>\n",
       "    </tr>\n",
       "    <tr>\n",
       "      <th>3</th>\n",
       "      <td>1</td>\n",
       "      <td>3</td>\n",
       "      <td>Heikkinen, Miss. Laina</td>\n",
       "      <td>female</td>\n",
       "      <td>26.0</td>\n",
       "      <td>0</td>\n",
       "      <td>0</td>\n",
       "      <td>STON/O2. 3101282</td>\n",
       "      <td>7.9250</td>\n",
       "      <td>NaN</td>\n",
       "      <td>S</td>\n",
       "    </tr>\n",
       "    <tr>\n",
       "      <th>4</th>\n",
       "      <td>1</td>\n",
       "      <td>1</td>\n",
       "      <td>Futrelle, Mrs. Jacques Heath (Lily May Peel)</td>\n",
       "      <td>female</td>\n",
       "      <td>35.0</td>\n",
       "      <td>1</td>\n",
       "      <td>0</td>\n",
       "      <td>113803</td>\n",
       "      <td>53.1000</td>\n",
       "      <td>C123</td>\n",
       "      <td>S</td>\n",
       "    </tr>\n",
       "    <tr>\n",
       "      <th>5</th>\n",
       "      <td>0</td>\n",
       "      <td>3</td>\n",
       "      <td>Allen, Mr. William Henry</td>\n",
       "      <td>male</td>\n",
       "      <td>35.0</td>\n",
       "      <td>0</td>\n",
       "      <td>0</td>\n",
       "      <td>373450</td>\n",
       "      <td>8.0500</td>\n",
       "      <td>NaN</td>\n",
       "      <td>S</td>\n",
       "    </tr>\n",
       "  </tbody>\n",
       "</table>\n",
       "</div>"
      ],
      "text/plain": [
       "             Survived  Pclass  \\\n",
       "PassengerId                     \n",
       "1                   0       3   \n",
       "2                   1       1   \n",
       "3                   1       3   \n",
       "4                   1       1   \n",
       "5                   0       3   \n",
       "\n",
       "                                                          Name     Sex   Age  \\\n",
       "PassengerId                                                                    \n",
       "1                                      Braund, Mr. Owen Harris    male  22.0   \n",
       "2            Cumings, Mrs. John Bradley (Florence Briggs Th...  female  38.0   \n",
       "3                                       Heikkinen, Miss. Laina  female  26.0   \n",
       "4                 Futrelle, Mrs. Jacques Heath (Lily May Peel)  female  35.0   \n",
       "5                                     Allen, Mr. William Henry    male  35.0   \n",
       "\n",
       "             SibSp  Parch            Ticket     Fare Cabin Embarked  \n",
       "PassengerId                                                          \n",
       "1                1      0         A/5 21171   7.2500   NaN        S  \n",
       "2                1      0          PC 17599  71.2833   C85        C  \n",
       "3                0      0  STON/O2. 3101282   7.9250   NaN        S  \n",
       "4                1      0            113803  53.1000  C123        S  \n",
       "5                0      0            373450   8.0500   NaN        S  "
      ]
     },
     "execution_count": 7,
     "metadata": {},
     "output_type": "execute_result"
    }
   ],
   "source": [
    "#set the index as passengerid\n",
    "train.set_index([\"PassengerId\"],inplace=True)\n",
    "test.set_index([\"PassengerId\"],inplace=True)\n",
    "train.head()"
   ]
  },
  {
   "cell_type": "code",
   "execution_count": 8,
   "id": "189f6cd8",
   "metadata": {
    "execution": {
     "iopub.execute_input": "2021-10-28T10:07:22.050030Z",
     "iopub.status.busy": "2021-10-28T10:07:22.049066Z",
     "iopub.status.idle": "2021-10-28T10:07:22.058326Z",
     "shell.execute_reply": "2021-10-28T10:07:22.059891Z",
     "shell.execute_reply.started": "2021-10-28T09:36:55.510082Z"
    },
    "papermill": {
     "duration": 0.054568,
     "end_time": "2021-10-28T10:07:22.060069",
     "exception": false,
     "start_time": "2021-10-28T10:07:22.005501",
     "status": "completed"
    },
    "tags": []
   },
   "outputs": [
    {
     "data": {
      "text/plain": [
       "Survived      0\n",
       "Pclass        0\n",
       "Name          0\n",
       "Sex           0\n",
       "Age         177\n",
       "SibSp         0\n",
       "Parch         0\n",
       "Ticket        0\n",
       "Fare          0\n",
       "Cabin       687\n",
       "Embarked      2\n",
       "dtype: int64"
      ]
     },
     "execution_count": 8,
     "metadata": {},
     "output_type": "execute_result"
    }
   ],
   "source": [
    "# Checking the missing data:\n",
    "train.isnull().sum()#show the missing datas"
   ]
  },
  {
   "cell_type": "code",
   "execution_count": 9,
   "id": "0331dbdb",
   "metadata": {
    "execution": {
     "iopub.execute_input": "2021-10-28T10:07:22.146838Z",
     "iopub.status.busy": "2021-10-28T10:07:22.145857Z",
     "iopub.status.idle": "2021-10-28T10:07:22.160533Z",
     "shell.execute_reply": "2021-10-28T10:07:22.161076Z",
     "shell.execute_reply.started": "2021-10-28T09:36:55.520075Z"
    },
    "papermill": {
     "duration": 0.059018,
     "end_time": "2021-10-28T10:07:22.161247",
     "exception": false,
     "start_time": "2021-10-28T10:07:22.102229",
     "status": "completed"
    },
    "tags": []
   },
   "outputs": [
    {
     "data": {
      "text/plain": [
       "Embarked     0.224467\n",
       "Age         19.865320\n",
       "Cabin       77.104377\n",
       "dtype: float64"
      ]
     },
     "execution_count": 9,
     "metadata": {},
     "output_type": "execute_result"
    }
   ],
   "source": [
    "100*(train.isnull().sum()/len(train))\n",
    "def missing_values_percent(train):#we can use this function in all dataframes.\n",
    "    nan_percent=100*(train.isnull().sum()/len(train))\n",
    "    nan_percent=nan_percent[nan_percent>0].sort_values()\n",
    "    return(nan_percent)\n",
    "\n",
    "nan_percent=missing_values_percent(train)\n",
    "nan_percent"
   ]
  },
  {
   "cell_type": "code",
   "execution_count": 10,
   "id": "bcb1a595",
   "metadata": {
    "execution": {
     "iopub.execute_input": "2021-10-28T10:07:22.248349Z",
     "iopub.status.busy": "2021-10-28T10:07:22.247377Z",
     "iopub.status.idle": "2021-10-28T10:07:22.767040Z",
     "shell.execute_reply": "2021-10-28T10:07:22.766450Z",
     "shell.execute_reply.started": "2021-10-28T09:36:55.536062Z"
    },
    "papermill": {
     "duration": 0.563593,
     "end_time": "2021-10-28T10:07:22.767183",
     "exception": false,
     "start_time": "2021-10-28T10:07:22.203590",
     "status": "completed"
    },
    "tags": []
   },
   "outputs": [
    {
     "data": {
      "text/html": [
       "<div>\n",
       "<style scoped>\n",
       "    .dataframe tbody tr th:only-of-type {\n",
       "        vertical-align: middle;\n",
       "    }\n",
       "\n",
       "    .dataframe tbody tr th {\n",
       "        vertical-align: top;\n",
       "    }\n",
       "\n",
       "    .dataframe thead th {\n",
       "        text-align: right;\n",
       "    }\n",
       "</style>\n",
       "<table border=\"1\" class=\"dataframe\">\n",
       "  <thead>\n",
       "    <tr style=\"text-align: right;\">\n",
       "      <th></th>\n",
       "      <th>Survived</th>\n",
       "      <th>Pclass</th>\n",
       "      <th>Name</th>\n",
       "      <th>Sex</th>\n",
       "      <th>SibSp</th>\n",
       "      <th>Parch</th>\n",
       "      <th>Ticket</th>\n",
       "      <th>Fare</th>\n",
       "      <th>Cabin</th>\n",
       "      <th>Embarked</th>\n",
       "      <th>Age2</th>\n",
       "    </tr>\n",
       "    <tr>\n",
       "      <th>PassengerId</th>\n",
       "      <th></th>\n",
       "      <th></th>\n",
       "      <th></th>\n",
       "      <th></th>\n",
       "      <th></th>\n",
       "      <th></th>\n",
       "      <th></th>\n",
       "      <th></th>\n",
       "      <th></th>\n",
       "      <th></th>\n",
       "      <th></th>\n",
       "    </tr>\n",
       "  </thead>\n",
       "  <tbody>\n",
       "    <tr>\n",
       "      <th>1</th>\n",
       "      <td>0</td>\n",
       "      <td>3</td>\n",
       "      <td>Braund, Mr. Owen Harris</td>\n",
       "      <td>male</td>\n",
       "      <td>1</td>\n",
       "      <td>0</td>\n",
       "      <td>A/5 21171</td>\n",
       "      <td>7.2500</td>\n",
       "      <td>NaN</td>\n",
       "      <td>S</td>\n",
       "      <td>22.0</td>\n",
       "    </tr>\n",
       "    <tr>\n",
       "      <th>2</th>\n",
       "      <td>1</td>\n",
       "      <td>1</td>\n",
       "      <td>Cumings, Mrs. John Bradley (Florence Briggs Th...</td>\n",
       "      <td>female</td>\n",
       "      <td>1</td>\n",
       "      <td>0</td>\n",
       "      <td>PC 17599</td>\n",
       "      <td>71.2833</td>\n",
       "      <td>C85</td>\n",
       "      <td>C</td>\n",
       "      <td>38.0</td>\n",
       "    </tr>\n",
       "    <tr>\n",
       "      <th>3</th>\n",
       "      <td>1</td>\n",
       "      <td>3</td>\n",
       "      <td>Heikkinen, Miss. Laina</td>\n",
       "      <td>female</td>\n",
       "      <td>0</td>\n",
       "      <td>0</td>\n",
       "      <td>STON/O2. 3101282</td>\n",
       "      <td>7.9250</td>\n",
       "      <td>NaN</td>\n",
       "      <td>S</td>\n",
       "      <td>26.0</td>\n",
       "    </tr>\n",
       "    <tr>\n",
       "      <th>4</th>\n",
       "      <td>1</td>\n",
       "      <td>1</td>\n",
       "      <td>Futrelle, Mrs. Jacques Heath (Lily May Peel)</td>\n",
       "      <td>female</td>\n",
       "      <td>1</td>\n",
       "      <td>0</td>\n",
       "      <td>113803</td>\n",
       "      <td>53.1000</td>\n",
       "      <td>C123</td>\n",
       "      <td>S</td>\n",
       "      <td>35.0</td>\n",
       "    </tr>\n",
       "    <tr>\n",
       "      <th>5</th>\n",
       "      <td>0</td>\n",
       "      <td>3</td>\n",
       "      <td>Allen, Mr. William Henry</td>\n",
       "      <td>male</td>\n",
       "      <td>0</td>\n",
       "      <td>0</td>\n",
       "      <td>373450</td>\n",
       "      <td>8.0500</td>\n",
       "      <td>NaN</td>\n",
       "      <td>S</td>\n",
       "      <td>35.0</td>\n",
       "    </tr>\n",
       "  </tbody>\n",
       "</table>\n",
       "</div>"
      ],
      "text/plain": [
       "             Survived  Pclass  \\\n",
       "PassengerId                     \n",
       "1                   0       3   \n",
       "2                   1       1   \n",
       "3                   1       3   \n",
       "4                   1       1   \n",
       "5                   0       3   \n",
       "\n",
       "                                                          Name     Sex  SibSp  \\\n",
       "PassengerId                                                                     \n",
       "1                                      Braund, Mr. Owen Harris    male      1   \n",
       "2            Cumings, Mrs. John Bradley (Florence Briggs Th...  female      1   \n",
       "3                                       Heikkinen, Miss. Laina  female      0   \n",
       "4                 Futrelle, Mrs. Jacques Heath (Lily May Peel)  female      1   \n",
       "5                                     Allen, Mr. William Henry    male      0   \n",
       "\n",
       "             Parch            Ticket     Fare Cabin Embarked  Age2  \n",
       "PassengerId                                                         \n",
       "1                0         A/5 21171   7.2500   NaN        S  22.0  \n",
       "2                0          PC 17599  71.2833   C85        C  38.0  \n",
       "3                0  STON/O2. 3101282   7.9250   NaN        S  26.0  \n",
       "4                0            113803  53.1000  C123        S  35.0  \n",
       "5                0            373450   8.0500   NaN        S  35.0  "
      ]
     },
     "execution_count": 10,
     "metadata": {},
     "output_type": "execute_result"
    }
   ],
   "source": [
    "# Imputer age coloumn\n",
    "from sklearn.impute import SimpleImputer\n",
    "#train data             \n",
    "Imp=SimpleImputer(strategy='median')\n",
    "new_train=Imp.fit_transform(train.Age.values.reshape(-1,1))\n",
    "train['Age2'] = new_train\n",
    "\n",
    "#test data\n",
    "new_test=Imp.fit_transform(test.Age.values.reshape(-1,1))\n",
    "test['Age2'] = new_test\n",
    "\n",
    "\n",
    "train.drop('Age',axis=1,inplace=True)\n",
    "test.drop('Age',axis=1,inplace=True)\n",
    "\n",
    "\n",
    "train.head()\n"
   ]
  },
  {
   "cell_type": "code",
   "execution_count": 11,
   "id": "9e9fa7bb",
   "metadata": {
    "execution": {
     "iopub.execute_input": "2021-10-28T10:07:22.858304Z",
     "iopub.status.busy": "2021-10-28T10:07:22.857639Z",
     "iopub.status.idle": "2021-10-28T10:07:22.864205Z",
     "shell.execute_reply": "2021-10-28T10:07:22.864753Z",
     "shell.execute_reply.started": "2021-10-28T09:36:56.007873Z"
    },
    "papermill": {
     "duration": 0.056161,
     "end_time": "2021-10-28T10:07:22.864932",
     "exception": false,
     "start_time": "2021-10-28T10:07:22.808771",
     "status": "completed"
    },
    "tags": []
   },
   "outputs": [
    {
     "data": {
      "text/plain": [
       "Survived      0\n",
       "Pclass        0\n",
       "Name          0\n",
       "Sex           0\n",
       "SibSp         0\n",
       "Parch         0\n",
       "Ticket        0\n",
       "Fare          0\n",
       "Cabin       687\n",
       "Embarked      2\n",
       "Age2          0\n",
       "dtype: int64"
      ]
     },
     "execution_count": 11,
     "metadata": {},
     "output_type": "execute_result"
    }
   ],
   "source": [
    "train.isnull().sum()"
   ]
  },
  {
   "cell_type": "code",
   "execution_count": 12,
   "id": "c0055f12",
   "metadata": {
    "execution": {
     "iopub.execute_input": "2021-10-28T10:07:22.956118Z",
     "iopub.status.busy": "2021-10-28T10:07:22.955378Z",
     "iopub.status.idle": "2021-10-28T10:07:22.965088Z",
     "shell.execute_reply": "2021-10-28T10:07:22.965733Z",
     "shell.execute_reply.started": "2021-10-28T09:36:56.017926Z"
    },
    "papermill": {
     "duration": 0.057457,
     "end_time": "2021-10-28T10:07:22.965909",
     "exception": false,
     "start_time": "2021-10-28T10:07:22.908452",
     "status": "completed"
    },
    "tags": []
   },
   "outputs": [
    {
     "data": {
      "text/plain": [
       "S    644\n",
       "C    168\n",
       "Q     77\n",
       "Name: Embarked, dtype: int64"
      ]
     },
     "execution_count": 12,
     "metadata": {},
     "output_type": "execute_result"
    }
   ],
   "source": [
    "train[\"Embarked\"].value_counts()"
   ]
  },
  {
   "cell_type": "code",
   "execution_count": 13,
   "id": "0a2fe51d",
   "metadata": {
    "execution": {
     "iopub.execute_input": "2021-10-28T10:07:23.055562Z",
     "iopub.status.busy": "2021-10-28T10:07:23.054917Z",
     "iopub.status.idle": "2021-10-28T10:07:23.059355Z",
     "shell.execute_reply": "2021-10-28T10:07:23.059875Z",
     "shell.execute_reply.started": "2021-10-28T09:36:56.035460Z"
    },
    "papermill": {
     "duration": 0.050373,
     "end_time": "2021-10-28T10:07:23.060047",
     "exception": false,
     "start_time": "2021-10-28T10:07:23.009674",
     "status": "completed"
    },
    "tags": []
   },
   "outputs": [],
   "source": [
    "#So we can replace missing datas in Embarked with s\n",
    "train[\"Embarked\"].fillna(\"s\",inplace=True)"
   ]
  },
  {
   "cell_type": "code",
   "execution_count": 14,
   "id": "55c6d958",
   "metadata": {
    "execution": {
     "iopub.execute_input": "2021-10-28T10:07:23.148709Z",
     "iopub.status.busy": "2021-10-28T10:07:23.148026Z",
     "iopub.status.idle": "2021-10-28T10:07:23.153323Z",
     "shell.execute_reply": "2021-10-28T10:07:23.153956Z",
     "shell.execute_reply.started": "2021-10-28T09:36:56.043448Z"
    },
    "papermill": {
     "duration": 0.051708,
     "end_time": "2021-10-28T10:07:23.154131",
     "exception": false,
     "start_time": "2021-10-28T10:07:23.102423",
     "status": "completed"
    },
    "tags": []
   },
   "outputs": [],
   "source": [
    "#cabin has 327 missing datas so we can get rid of it by dropping this feature.\n",
    "train.drop(\"Cabin\",axis=1,inplace=True)"
   ]
  },
  {
   "cell_type": "code",
   "execution_count": 15,
   "id": "3a961eae",
   "metadata": {
    "execution": {
     "iopub.execute_input": "2021-10-28T10:07:23.242788Z",
     "iopub.status.busy": "2021-10-28T10:07:23.242081Z",
     "iopub.status.idle": "2021-10-28T10:07:23.250904Z",
     "shell.execute_reply": "2021-10-28T10:07:23.251434Z",
     "shell.execute_reply.started": "2021-10-28T09:36:56.055583Z"
    },
    "papermill": {
     "duration": 0.055412,
     "end_time": "2021-10-28T10:07:23.251706",
     "exception": false,
     "start_time": "2021-10-28T10:07:23.196294",
     "status": "completed"
    },
    "tags": []
   },
   "outputs": [
    {
     "data": {
      "text/plain": [
       "Survived    0\n",
       "Pclass      0\n",
       "Name        0\n",
       "Sex         0\n",
       "SibSp       0\n",
       "Parch       0\n",
       "Ticket      0\n",
       "Fare        0\n",
       "Embarked    0\n",
       "Age2        0\n",
       "dtype: int64"
      ]
     },
     "execution_count": 15,
     "metadata": {},
     "output_type": "execute_result"
    }
   ],
   "source": [
    "train.isnull().sum()"
   ]
  },
  {
   "cell_type": "code",
   "execution_count": 16,
   "id": "ededd75b",
   "metadata": {
    "execution": {
     "iopub.execute_input": "2021-10-28T10:07:23.343028Z",
     "iopub.status.busy": "2021-10-28T10:07:23.342366Z",
     "iopub.status.idle": "2021-10-28T10:07:23.350382Z",
     "shell.execute_reply": "2021-10-28T10:07:23.350937Z",
     "shell.execute_reply.started": "2021-10-28T09:36:56.073081Z"
    },
    "papermill": {
     "duration": 0.055928,
     "end_time": "2021-10-28T10:07:23.351114",
     "exception": false,
     "start_time": "2021-10-28T10:07:23.295186",
     "status": "completed"
    },
    "tags": []
   },
   "outputs": [
    {
     "data": {
      "text/plain": [
       "0    0.616162\n",
       "1    0.383838\n",
       "Name: Survived, dtype: float64"
      ]
     },
     "execution_count": 16,
     "metadata": {},
     "output_type": "execute_result"
    }
   ],
   "source": [
    "train[\"Survived\"].value_counts(normalize=True)#How many passengers survived?\n"
   ]
  },
  {
   "cell_type": "markdown",
   "id": "b2e69a1b",
   "metadata": {
    "papermill": {
     "duration": 0.043442,
     "end_time": "2021-10-28T10:07:23.439028",
     "exception": false,
     "start_time": "2021-10-28T10:07:23.395586",
     "status": "completed"
    },
    "tags": []
   },
   "source": [
    "#EDA"
   ]
  },
  {
   "cell_type": "code",
   "execution_count": 17,
   "id": "39dba7ef",
   "metadata": {
    "execution": {
     "iopub.execute_input": "2021-10-28T10:07:23.532063Z",
     "iopub.status.busy": "2021-10-28T10:07:23.531341Z",
     "iopub.status.idle": "2021-10-28T10:07:23.537183Z",
     "shell.execute_reply": "2021-10-28T10:07:23.537799Z",
     "shell.execute_reply.started": "2021-10-28T09:36:56.087447Z"
    },
    "papermill": {
     "duration": 0.05339,
     "end_time": "2021-10-28T10:07:23.537980",
     "exception": false,
     "start_time": "2021-10-28T10:07:23.484590",
     "status": "completed"
    },
    "tags": []
   },
   "outputs": [],
   "source": [
    "def bar_chart_stacked(dataset,feature,stacked=True):\n",
    "  survived=train[train[\"Survived\"]==1][feature].value_counts()\n",
    "  dead=train[train[\"Survived\"]==0][feature].value_counts()   \n",
    "  df_survived_dead=pd.DataFrame([survived,dead])  \n",
    "  df_survived_dead.index=[\"passengers survived\",\"passengers died\"]   \n",
    "  df_survived_dead.plot(kind=\"bar\",stacked=stacked,figsize=(8,5))\n",
    "                              "
   ]
  },
  {
   "cell_type": "code",
   "execution_count": 18,
   "id": "19b02795",
   "metadata": {
    "execution": {
     "iopub.execute_input": "2021-10-28T10:07:23.631080Z",
     "iopub.status.busy": "2021-10-28T10:07:23.630295Z",
     "iopub.status.idle": "2021-10-28T10:07:23.911633Z",
     "shell.execute_reply": "2021-10-28T10:07:23.910966Z",
     "shell.execute_reply.started": "2021-10-28T09:36:56.095783Z"
    },
    "papermill": {
     "duration": 0.328298,
     "end_time": "2021-10-28T10:07:23.911801",
     "exception": false,
     "start_time": "2021-10-28T10:07:23.583503",
     "status": "completed"
    },
    "tags": []
   },
   "outputs": [
    {
     "data": {
      "image/png": "[encoded data removed]",
      "text/plain": [
       "<Figure size 576x360 with 1 Axes>"
      ]
     },
     "metadata": {
      "needs_background": "light"
     },
     "output_type": "display_data"
    }
   ],
   "source": [
    "bar_chart_stacked(train,\"Survived\")"
   ]
  },
  {
   "cell_type": "code",
   "execution_count": 19,
   "id": "84f487f9",
   "metadata": {
    "execution": {
     "iopub.execute_input": "2021-10-28T10:07:24.015043Z",
     "iopub.status.busy": "2021-10-28T10:07:24.014313Z",
     "iopub.status.idle": "2021-10-28T10:07:24.017048Z",
     "shell.execute_reply": "2021-10-28T10:07:24.017561Z",
     "shell.execute_reply.started": "2021-10-28T09:36:56.376970Z"
    },
    "papermill": {
     "duration": 0.059255,
     "end_time": "2021-10-28T10:07:24.017756",
     "exception": false,
     "start_time": "2021-10-28T10:07:23.958501",
     "status": "completed"
    },
    "tags": []
   },
   "outputs": [
    {
     "data": {
      "text/html": [
       "<div>\n",
       "<style scoped>\n",
       "    .dataframe tbody tr th:only-of-type {\n",
       "        vertical-align: middle;\n",
       "    }\n",
       "\n",
       "    .dataframe tbody tr th {\n",
       "        vertical-align: top;\n",
       "    }\n",
       "\n",
       "    .dataframe thead th {\n",
       "        text-align: right;\n",
       "    }\n",
       "</style>\n",
       "<table border=\"1\" class=\"dataframe\">\n",
       "  <thead>\n",
       "    <tr style=\"text-align: right;\">\n",
       "      <th></th>\n",
       "      <th>Sex</th>\n",
       "    </tr>\n",
       "  </thead>\n",
       "  <tbody>\n",
       "    <tr>\n",
       "      <th>male</th>\n",
       "      <td>577</td>\n",
       "    </tr>\n",
       "    <tr>\n",
       "      <th>female</th>\n",
       "      <td>314</td>\n",
       "    </tr>\n",
       "  </tbody>\n",
       "</table>\n",
       "</div>"
      ],
      "text/plain": [
       "        Sex\n",
       "male    577\n",
       "female  314"
      ]
     },
     "execution_count": 19,
     "metadata": {},
     "output_type": "execute_result"
    }
   ],
   "source": [
    "train[\"Sex\"].value_counts().to_frame()#passengers count on gender"
   ]
  },
  {
   "cell_type": "code",
   "execution_count": 20,
   "id": "783b3758",
   "metadata": {
    "execution": {
     "iopub.execute_input": "2021-10-28T10:07:24.112941Z",
     "iopub.status.busy": "2021-10-28T10:07:24.112197Z",
     "iopub.status.idle": "2021-10-28T10:07:24.342839Z",
     "shell.execute_reply": "2021-10-28T10:07:24.343338Z",
     "shell.execute_reply.started": "2021-10-28T09:36:56.388522Z"
    },
    "papermill": {
     "duration": 0.280018,
     "end_time": "2021-10-28T10:07:24.343543",
     "exception": false,
     "start_time": "2021-10-28T10:07:24.063525",
     "status": "completed"
    },
    "tags": []
   },
   "outputs": [
    {
     "data": {
      "image/png": "[encoded data removed]",
      "text/plain": [
       "<Figure size 576x360 with 1 Axes>"
      ]
     },
     "metadata": {
      "needs_background": "light"
     },
     "output_type": "display_data"
    }
   ],
   "source": [
    "bar_chart_stacked(train,\"Sex\")#compare the survived  and dead passengers counts on gender"
   ]
  },
  {
   "cell_type": "code",
   "execution_count": 21,
   "id": "0271cb3f",
   "metadata": {
    "execution": {
     "iopub.execute_input": "2021-10-28T10:07:24.440560Z",
     "iopub.status.busy": "2021-10-28T10:07:24.439565Z",
     "iopub.status.idle": "2021-10-28T10:07:24.452103Z",
     "shell.execute_reply": "2021-10-28T10:07:24.452722Z",
     "shell.execute_reply.started": "2021-10-28T09:40:17.809239Z"
    },
    "papermill": {
     "duration": 0.062973,
     "end_time": "2021-10-28T10:07:24.452903",
     "exception": false,
     "start_time": "2021-10-28T10:07:24.389930",
     "status": "completed"
    },
    "tags": []
   },
   "outputs": [
    {
     "data": {
      "text/html": [
       "<div>\n",
       "<style scoped>\n",
       "    .dataframe tbody tr th:only-of-type {\n",
       "        vertical-align: middle;\n",
       "    }\n",
       "\n",
       "    .dataframe tbody tr th {\n",
       "        vertical-align: top;\n",
       "    }\n",
       "\n",
       "    .dataframe thead th {\n",
       "        text-align: right;\n",
       "    }\n",
       "</style>\n",
       "<table border=\"1\" class=\"dataframe\">\n",
       "  <thead>\n",
       "    <tr style=\"text-align: right;\">\n",
       "      <th></th>\n",
       "      <th>Survived</th>\n",
       "    </tr>\n",
       "    <tr>\n",
       "      <th>Pclass</th>\n",
       "      <th></th>\n",
       "    </tr>\n",
       "  </thead>\n",
       "  <tbody>\n",
       "    <tr>\n",
       "      <th>1</th>\n",
       "      <td>0.629630</td>\n",
       "    </tr>\n",
       "    <tr>\n",
       "      <th>2</th>\n",
       "      <td>0.472826</td>\n",
       "    </tr>\n",
       "    <tr>\n",
       "      <th>3</th>\n",
       "      <td>0.242363</td>\n",
       "    </tr>\n",
       "  </tbody>\n",
       "</table>\n",
       "</div>"
      ],
      "text/plain": [
       "        Survived\n",
       "Pclass          \n",
       "1       0.629630\n",
       "2       0.472826\n",
       "3       0.242363"
      ]
     },
     "execution_count": 21,
     "metadata": {},
     "output_type": "execute_result"
    }
   ],
   "source": [
    "train.groupby([\"Pclass\"])[\"Survived\"].mean().to_frame()"
   ]
  },
  {
   "cell_type": "code",
   "execution_count": 22,
   "id": "28c7455a",
   "metadata": {
    "execution": {
     "iopub.execute_input": "2021-10-28T10:07:24.547944Z",
     "iopub.status.busy": "2021-10-28T10:07:24.546982Z",
     "iopub.status.idle": "2021-10-28T10:07:24.790325Z",
     "shell.execute_reply": "2021-10-28T10:07:24.790793Z",
     "shell.execute_reply.started": "2021-10-28T09:42:10.575761Z"
    },
    "papermill": {
     "duration": 0.292599,
     "end_time": "2021-10-28T10:07:24.790964",
     "exception": false,
     "start_time": "2021-10-28T10:07:24.498365",
     "status": "completed"
    },
    "tags": []
   },
   "outputs": [
    {
     "data": {
      "image/png": "[encoded data removed]",
      "text/plain": [
       "<Figure size 576x360 with 1 Axes>"
      ]
     },
     "metadata": {
      "needs_background": "light"
     },
     "output_type": "display_data"
    }
   ],
   "source": [
    "bar_chart_stacked(train,\"Pclass\")"
   ]
  },
  {
   "cell_type": "code",
   "execution_count": 23,
   "id": "1c799caa",
   "metadata": {
    "execution": {
     "iopub.execute_input": "2021-10-28T10:07:24.889324Z",
     "iopub.status.busy": "2021-10-28T10:07:24.888251Z",
     "iopub.status.idle": "2021-10-28T10:07:24.890537Z",
     "shell.execute_reply": "2021-10-28T10:07:24.891125Z",
     "shell.execute_reply.started": "2021-10-28T09:49:19.324182Z"
    },
    "papermill": {
     "duration": 0.054356,
     "end_time": "2021-10-28T10:07:24.891307",
     "exception": false,
     "start_time": "2021-10-28T10:07:24.836951",
     "status": "completed"
    },
    "tags": []
   },
   "outputs": [],
   "source": [
    "def bar_chart_compare(dataset,feature1,feature2=None):\n",
    "    plt.figure(figsize=(8,5))\n",
    "    plt.title(\"survived rate by sex and pclass\")\n",
    "    g=sns.barplot(x=feature1,y=\"Survived\",hue=feature2,data=dataset).set "
   ]
  },
  {
   "cell_type": "code",
   "execution_count": 24,
   "id": "e6326950",
   "metadata": {
    "execution": {
     "iopub.execute_input": "2021-10-28T10:07:25.010282Z",
     "iopub.status.busy": "2021-10-28T10:07:25.004480Z",
     "iopub.status.idle": "2021-10-28T10:07:25.445652Z",
     "shell.execute_reply": "2021-10-28T10:07:25.446216Z",
     "shell.execute_reply.started": "2021-10-28T09:49:29.634352Z"
    },
    "papermill": {
     "duration": 0.508139,
     "end_time": "2021-10-28T10:07:25.446393",
     "exception": false,
     "start_time": "2021-10-28T10:07:24.938254",
     "status": "completed"
    },
    "tags": []
   },
   "outputs": [
    {
     "data": {
      "image/png": "[encoded data removed]",
      "text/plain": [
       "<Figure size 576x360 with 1 Axes>"
      ]
     },
     "metadata": {
      "needs_background": "light"
     },
     "output_type": "display_data"
    }
   ],
   "source": [
    "bar_chart_compare(train,\"Pclass\",\"Sex\")"
   ]
  },
  {
   "cell_type": "code",
   "execution_count": 25,
   "id": "0e29475f",
   "metadata": {
    "execution": {
     "iopub.execute_input": "2021-10-28T10:07:25.547759Z",
     "iopub.status.busy": "2021-10-28T10:07:25.546780Z",
     "iopub.status.idle": "2021-10-28T10:07:34.303719Z",
     "shell.execute_reply": "2021-10-28T10:07:34.303151Z",
     "shell.execute_reply.started": "2021-10-28T09:50:06.429949Z"
    },
    "papermill": {
     "duration": 8.81091,
     "end_time": "2021-10-28T10:07:34.303887",
     "exception": false,
     "start_time": "2021-10-28T10:07:25.492977",
     "status": "completed"
    },
    "tags": []
   },
   "outputs": [
    {
     "data": {
      "text/plain": [
       "<seaborn.axisgrid.PairGrid at 0x7f4585004a90>"
      ]
     },
     "execution_count": 25,
     "metadata": {},
     "output_type": "execute_result"
    },
    {
     "data": {
      "image/png": "[encoded data removed]",
      "text/plain": [
       "<Figure size 1080x1080 with 42 Axes>"
      ]
     },
     "metadata": {
      "needs_background": "light"
     },
     "output_type": "display_data"
    }
   ],
   "source": [
    "sns.pairplot(train)"
   ]
  },
  {
   "cell_type": "code",
   "execution_count": 26,
   "id": "93e5992c",
   "metadata": {
    "execution": {
     "iopub.execute_input": "2021-10-28T10:07:34.410385Z",
     "iopub.status.busy": "2021-10-28T10:07:34.409773Z",
     "iopub.status.idle": "2021-10-28T10:07:34.899815Z",
     "shell.execute_reply": "2021-10-28T10:07:34.899169Z",
     "shell.execute_reply.started": "2021-10-28T09:50:21.937146Z"
    },
    "papermill": {
     "duration": 0.544777,
     "end_time": "2021-10-28T10:07:34.900013",
     "exception": false,
     "start_time": "2021-10-28T10:07:34.355236",
     "status": "completed"
    },
    "tags": []
   },
   "outputs": [
    {
     "data": {
      "text/plain": [
       "<AxesSubplot:>"
      ]
     },
     "execution_count": 26,
     "metadata": {},
     "output_type": "execute_result"
    },
    {
     "data": {
      "image/png": "[encoded data removed]",
      "text/plain": [
       "<Figure size 864x576 with 2 Axes>"
      ]
     },
     "metadata": {
      "needs_background": "light"
     },
     "output_type": "display_data"
    }
   ],
   "source": [
    "corr = train.corr()\n",
    "plt.subplots(figsize=(12, 8))\n",
    "sns.heatmap(corr, annot=True)"
   ]
  },
  {
   "cell_type": "markdown",
   "id": "28e99c84",
   "metadata": {
    "papermill": {
     "duration": 0.054988,
     "end_time": "2021-10-28T10:07:35.009646",
     "exception": false,
     "start_time": "2021-10-28T10:07:34.954658",
     "status": "completed"
    },
    "tags": []
   },
   "source": [
    "**Feature Engineering**"
   ]
  },
  {
   "cell_type": "code",
   "execution_count": 27,
   "id": "5bcd9dec",
   "metadata": {
    "execution": {
     "iopub.execute_input": "2021-10-28T10:07:35.125330Z",
     "iopub.status.busy": "2021-10-28T10:07:35.124063Z",
     "iopub.status.idle": "2021-10-28T10:07:35.129527Z",
     "shell.execute_reply": "2021-10-28T10:07:35.130034Z",
     "shell.execute_reply.started": "2021-10-28T09:52:13.328566Z"
    },
    "papermill": {
     "duration": 0.065927,
     "end_time": "2021-10-28T10:07:35.130261",
     "exception": false,
     "start_time": "2021-10-28T10:07:35.064334",
     "status": "completed"
    },
    "tags": []
   },
   "outputs": [
    {
     "data": {
      "text/plain": [
       "PassengerId\n",
       "1                                Braund, Mr. Owen Harris\n",
       "2      Cumings, Mrs. John Bradley (Florence Briggs Th...\n",
       "3                                 Heikkinen, Miss. Laina\n",
       "4           Futrelle, Mrs. Jacques Heath (Lily May Peel)\n",
       "5                               Allen, Mr. William Henry\n",
       "                             ...                        \n",
       "887                                Montvila, Rev. Juozas\n",
       "888                         Graham, Miss. Margaret Edith\n",
       "889             Johnston, Miss. Catherine Helen \"Carrie\"\n",
       "890                                Behr, Mr. Karl Howell\n",
       "891                                  Dooley, Mr. Patrick\n",
       "Name: Name, Length: 891, dtype: object"
      ]
     },
     "execution_count": 27,
     "metadata": {},
     "output_type": "execute_result"
    }
   ],
   "source": [
    "train[\"Name\"]"
   ]
  },
  {
   "cell_type": "code",
   "execution_count": 28,
   "id": "9ca5b6cf",
   "metadata": {
    "execution": {
     "iopub.execute_input": "2021-10-28T10:07:35.251805Z",
     "iopub.status.busy": "2021-10-28T10:07:35.251057Z",
     "iopub.status.idle": "2021-10-28T10:07:35.253881Z",
     "shell.execute_reply": "2021-10-28T10:07:35.254370Z",
     "shell.execute_reply.started": "2021-10-28T09:52:16.583581Z"
    },
    "papermill": {
     "duration": 0.070034,
     "end_time": "2021-10-28T10:07:35.254578",
     "exception": false,
     "start_time": "2021-10-28T10:07:35.184544",
     "status": "completed"
    },
    "tags": []
   },
   "outputs": [
    {
     "data": {
      "text/plain": [
       "array(['Mr', 'Mrs', 'Miss', 'Master', 'Don', 'Rev', 'Dr', 'Mme', 'Ms',\n",
       "       'Major', 'Lady', 'Sir', 'Mlle', 'Col', 'Capt', 'the Countess',\n",
       "       'Jonkheer'], dtype=object)"
      ]
     },
     "execution_count": 28,
     "metadata": {},
     "output_type": "execute_result"
    }
   ],
   "source": [
    "train['Title'] =train['Name'].apply(lambda x: x.split(', ')[1].split('. ')[0].strip())\n",
    "test['Title'] =train['Name'].apply(lambda x: x.split(', ')[1].split('. ')[0].strip())\n",
    "train[\"Title\"].unique()\n"
   ]
  },
  {
   "cell_type": "code",
   "execution_count": 29,
   "id": "c65d1754",
   "metadata": {
    "execution": {
     "iopub.execute_input": "2021-10-28T10:07:35.367048Z",
     "iopub.status.busy": "2021-10-28T10:07:35.366219Z",
     "iopub.status.idle": "2021-10-28T10:07:35.370923Z",
     "shell.execute_reply": "2021-10-28T10:07:35.371509Z",
     "shell.execute_reply.started": "2021-10-28T09:57:18.380939Z"
    },
    "papermill": {
     "duration": 0.062798,
     "end_time": "2021-10-28T10:07:35.371729",
     "exception": false,
     "start_time": "2021-10-28T10:07:35.308931",
     "status": "completed"
    },
    "tags": []
   },
   "outputs": [],
   "source": [
    "train[\"family_size\"]=train[\"SibSp\"]+train[\"Parch\"]+1"
   ]
  },
  {
   "cell_type": "code",
   "execution_count": 30,
   "id": "0d9b3f6c",
   "metadata": {
    "execution": {
     "iopub.execute_input": "2021-10-28T10:07:35.484580Z",
     "iopub.status.busy": "2021-10-28T10:07:35.483889Z",
     "iopub.status.idle": "2021-10-28T10:07:35.488079Z",
     "shell.execute_reply": "2021-10-28T10:07:35.488694Z",
     "shell.execute_reply.started": "2021-10-28T09:57:29.073379Z"
    },
    "papermill": {
     "duration": 0.062032,
     "end_time": "2021-10-28T10:07:35.488891",
     "exception": false,
     "start_time": "2021-10-28T10:07:35.426859",
     "status": "completed"
    },
    "tags": []
   },
   "outputs": [],
   "source": [
    "def family_group(size):\n",
    "    a=\"\"\n",
    "    if(size<=1):\n",
    "        a=\"alone\"\n",
    "    elif(size<=4):\n",
    "        a=\"small\"\n",
    "    else:\n",
    "        a=\"large\"\n",
    "    return a"
   ]
  },
  {
   "cell_type": "code",
   "execution_count": 31,
   "id": "653795e2",
   "metadata": {
    "execution": {
     "iopub.execute_input": "2021-10-28T10:07:35.600926Z",
     "iopub.status.busy": "2021-10-28T10:07:35.600224Z",
     "iopub.status.idle": "2021-10-28T10:07:35.619562Z",
     "shell.execute_reply": "2021-10-28T10:07:35.620195Z",
     "shell.execute_reply.started": "2021-10-28T09:58:57.395397Z"
    },
    "papermill": {
     "duration": 0.077453,
     "end_time": "2021-10-28T10:07:35.620401",
     "exception": false,
     "start_time": "2021-10-28T10:07:35.542948",
     "status": "completed"
    },
    "tags": []
   },
   "outputs": [
    {
     "data": {
      "text/html": [
       "<div>\n",
       "<style scoped>\n",
       "    .dataframe tbody tr th:only-of-type {\n",
       "        vertical-align: middle;\n",
       "    }\n",
       "\n",
       "    .dataframe tbody tr th {\n",
       "        vertical-align: top;\n",
       "    }\n",
       "\n",
       "    .dataframe thead th {\n",
       "        text-align: right;\n",
       "    }\n",
       "</style>\n",
       "<table border=\"1\" class=\"dataframe\">\n",
       "  <thead>\n",
       "    <tr style=\"text-align: right;\">\n",
       "      <th></th>\n",
       "      <th>Survived</th>\n",
       "      <th>Pclass</th>\n",
       "      <th>Name</th>\n",
       "      <th>Sex</th>\n",
       "      <th>SibSp</th>\n",
       "      <th>Parch</th>\n",
       "      <th>Ticket</th>\n",
       "      <th>Fare</th>\n",
       "      <th>Embarked</th>\n",
       "      <th>Age2</th>\n",
       "      <th>Title</th>\n",
       "      <th>family_size</th>\n",
       "      <th>family_group</th>\n",
       "      <th>fare_per_person</th>\n",
       "    </tr>\n",
       "    <tr>\n",
       "      <th>PassengerId</th>\n",
       "      <th></th>\n",
       "      <th></th>\n",
       "      <th></th>\n",
       "      <th></th>\n",
       "      <th></th>\n",
       "      <th></th>\n",
       "      <th></th>\n",
       "      <th></th>\n",
       "      <th></th>\n",
       "      <th></th>\n",
       "      <th></th>\n",
       "      <th></th>\n",
       "      <th></th>\n",
       "      <th></th>\n",
       "    </tr>\n",
       "  </thead>\n",
       "  <tbody>\n",
       "    <tr>\n",
       "      <th>1</th>\n",
       "      <td>0</td>\n",
       "      <td>3</td>\n",
       "      <td>Braund, Mr. Owen Harris</td>\n",
       "      <td>male</td>\n",
       "      <td>1</td>\n",
       "      <td>0</td>\n",
       "      <td>A/5 21171</td>\n",
       "      <td>7.2500</td>\n",
       "      <td>S</td>\n",
       "      <td>22.0</td>\n",
       "      <td>Mr</td>\n",
       "      <td>2</td>\n",
       "      <td>small</td>\n",
       "      <td>3.62500</td>\n",
       "    </tr>\n",
       "    <tr>\n",
       "      <th>2</th>\n",
       "      <td>1</td>\n",
       "      <td>1</td>\n",
       "      <td>Cumings, Mrs. John Bradley (Florence Briggs Th...</td>\n",
       "      <td>female</td>\n",
       "      <td>1</td>\n",
       "      <td>0</td>\n",
       "      <td>PC 17599</td>\n",
       "      <td>71.2833</td>\n",
       "      <td>C</td>\n",
       "      <td>38.0</td>\n",
       "      <td>Mrs</td>\n",
       "      <td>2</td>\n",
       "      <td>small</td>\n",
       "      <td>35.64165</td>\n",
       "    </tr>\n",
       "    <tr>\n",
       "      <th>3</th>\n",
       "      <td>1</td>\n",
       "      <td>3</td>\n",
       "      <td>Heikkinen, Miss. Laina</td>\n",
       "      <td>female</td>\n",
       "      <td>0</td>\n",
       "      <td>0</td>\n",
       "      <td>STON/O2. 3101282</td>\n",
       "      <td>7.9250</td>\n",
       "      <td>S</td>\n",
       "      <td>26.0</td>\n",
       "      <td>Miss</td>\n",
       "      <td>1</td>\n",
       "      <td>alone</td>\n",
       "      <td>7.92500</td>\n",
       "    </tr>\n",
       "    <tr>\n",
       "      <th>4</th>\n",
       "      <td>1</td>\n",
       "      <td>1</td>\n",
       "      <td>Futrelle, Mrs. Jacques Heath (Lily May Peel)</td>\n",
       "      <td>female</td>\n",
       "      <td>1</td>\n",
       "      <td>0</td>\n",
       "      <td>113803</td>\n",
       "      <td>53.1000</td>\n",
       "      <td>S</td>\n",
       "      <td>35.0</td>\n",
       "      <td>Mrs</td>\n",
       "      <td>2</td>\n",
       "      <td>small</td>\n",
       "      <td>26.55000</td>\n",
       "    </tr>\n",
       "    <tr>\n",
       "      <th>5</th>\n",
       "      <td>0</td>\n",
       "      <td>3</td>\n",
       "      <td>Allen, Mr. William Henry</td>\n",
       "      <td>male</td>\n",
       "      <td>0</td>\n",
       "      <td>0</td>\n",
       "      <td>373450</td>\n",
       "      <td>8.0500</td>\n",
       "      <td>S</td>\n",
       "      <td>35.0</td>\n",
       "      <td>Mr</td>\n",
       "      <td>1</td>\n",
       "      <td>alone</td>\n",
       "      <td>8.05000</td>\n",
       "    </tr>\n",
       "  </tbody>\n",
       "</table>\n",
       "</div>"
      ],
      "text/plain": [
       "             Survived  Pclass  \\\n",
       "PassengerId                     \n",
       "1                   0       3   \n",
       "2                   1       1   \n",
       "3                   1       3   \n",
       "4                   1       1   \n",
       "5                   0       3   \n",
       "\n",
       "                                                          Name     Sex  SibSp  \\\n",
       "PassengerId                                                                     \n",
       "1                                      Braund, Mr. Owen Harris    male      1   \n",
       "2            Cumings, Mrs. John Bradley (Florence Briggs Th...  female      1   \n",
       "3                                       Heikkinen, Miss. Laina  female      0   \n",
       "4                 Futrelle, Mrs. Jacques Heath (Lily May Peel)  female      1   \n",
       "5                                     Allen, Mr. William Henry    male      0   \n",
       "\n",
       "             Parch            Ticket     Fare Embarked  Age2 Title  \\\n",
       "PassengerId                                                          \n",
       "1                0         A/5 21171   7.2500        S  22.0    Mr   \n",
       "2                0          PC 17599  71.2833        C  38.0   Mrs   \n",
       "3                0  STON/O2. 3101282   7.9250        S  26.0  Miss   \n",
       "4                0            113803  53.1000        S  35.0   Mrs   \n",
       "5                0            373450   8.0500        S  35.0    Mr   \n",
       "\n",
       "             family_size family_group  fare_per_person  \n",
       "PassengerId                                             \n",
       "1                      2        small          3.62500  \n",
       "2                      2        small         35.64165  \n",
       "3                      1        alone          7.92500  \n",
       "4                      2        small         26.55000  \n",
       "5                      1        alone          8.05000  "
      ]
     },
     "execution_count": 31,
     "metadata": {},
     "output_type": "execute_result"
    }
   ],
   "source": [
    "train[\"family_group\"]=train[\"family_size\"].map(family_group)\n",
    "train[\"fare_per_person\"]=train[\"Fare\"]/train[\"family_size\"]\n",
    "train.head()"
   ]
  },
  {
   "cell_type": "code",
   "execution_count": 32,
   "id": "73979b1c",
   "metadata": {
    "execution": {
     "iopub.execute_input": "2021-10-28T10:07:35.733528Z",
     "iopub.status.busy": "2021-10-28T10:07:35.732850Z",
     "iopub.status.idle": "2021-10-28T10:07:36.047860Z",
     "shell.execute_reply": "2021-10-28T10:07:36.047155Z",
     "shell.execute_reply.started": "2021-10-28T09:59:08.003338Z"
    },
    "papermill": {
     "duration": 0.372793,
     "end_time": "2021-10-28T10:07:36.048013",
     "exception": false,
     "start_time": "2021-10-28T10:07:35.675220",
     "status": "completed"
    },
    "tags": []
   },
   "outputs": [
    {
     "data": {
      "text/plain": [
       "<AxesSubplot:xlabel='family_group', ylabel='Survived'>"
      ]
     },
     "execution_count": 32,
     "metadata": {},
     "output_type": "execute_result"
    },
    {
     "data": {
      "image/png": "[encoded data removed]",
      "text/plain": [
       "<Figure size 576x360 with 1 Axes>"
      ]
     },
     "metadata": {
      "needs_background": "light"
     },
     "output_type": "display_data"
    }
   ],
   "source": [
    "plt.figure(figsize=(8,5))\n",
    "sns.barplot(data=train,x=\"family_group\",y=\"Survived\")"
   ]
  },
  {
   "cell_type": "code",
   "execution_count": 33,
   "id": "5f43893b",
   "metadata": {
    "execution": {
     "iopub.execute_input": "2021-10-28T10:07:36.161800Z",
     "iopub.status.busy": "2021-10-28T10:07:36.161096Z",
     "iopub.status.idle": "2021-10-28T10:07:36.166402Z",
     "shell.execute_reply": "2021-10-28T10:07:36.166932Z",
     "shell.execute_reply.started": "2021-10-28T09:59:54.116495Z"
    },
    "papermill": {
     "duration": 0.063342,
     "end_time": "2021-10-28T10:07:36.167098",
     "exception": false,
     "start_time": "2021-10-28T10:07:36.103756",
     "status": "completed"
    },
    "tags": []
   },
   "outputs": [],
   "source": [
    "train.drop([\"Ticket\"],axis=1,inplace=True)#This feature doesnt give us any useful infomation."
   ]
  },
  {
   "cell_type": "code",
   "execution_count": 34,
   "id": "2a44d790",
   "metadata": {
    "execution": {
     "iopub.execute_input": "2021-10-28T10:07:36.279649Z",
     "iopub.status.busy": "2021-10-28T10:07:36.278950Z",
     "iopub.status.idle": "2021-10-28T10:07:36.286309Z",
     "shell.execute_reply": "2021-10-28T10:07:36.286796Z",
     "shell.execute_reply.started": "2021-10-28T10:00:05.349215Z"
    },
    "papermill": {
     "duration": 0.065433,
     "end_time": "2021-10-28T10:07:36.286974",
     "exception": false,
     "start_time": "2021-10-28T10:07:36.221541",
     "status": "completed"
    },
    "tags": []
   },
   "outputs": [
    {
     "data": {
      "text/plain": [
       "PassengerId\n",
       "1      3\n",
       "2      1\n",
       "3      3\n",
       "4      1\n",
       "5      3\n",
       "      ..\n",
       "887    2\n",
       "888    1\n",
       "889    3\n",
       "890    1\n",
       "891    3\n",
       "Name: Pclass, Length: 891, dtype: object"
      ]
     },
     "execution_count": 34,
     "metadata": {},
     "output_type": "execute_result"
    }
   ],
   "source": [
    "train[\"Pclass\"].apply(str)"
   ]
  },
  {
   "cell_type": "code",
   "execution_count": 35,
   "id": "b78a797e",
   "metadata": {
    "execution": {
     "iopub.execute_input": "2021-10-28T10:07:36.401165Z",
     "iopub.status.busy": "2021-10-28T10:07:36.400443Z",
     "iopub.status.idle": "2021-10-28T10:07:36.407341Z",
     "shell.execute_reply": "2021-10-28T10:07:36.407835Z",
     "shell.execute_reply.started": "2021-10-28T10:00:15.271485Z"
    },
    "papermill": {
     "duration": 0.065701,
     "end_time": "2021-10-28T10:07:36.408018",
     "exception": false,
     "start_time": "2021-10-28T10:07:36.342317",
     "status": "completed"
    },
    "tags": []
   },
   "outputs": [],
   "source": [
    "#Divide dataframe to 2 parts(num and str)\n",
    "train_num=train.select_dtypes(exclude=\"object\")\n",
    "train_obj=train.select_dtypes(include=\"object\")"
   ]
  },
  {
   "cell_type": "code",
   "execution_count": 36,
   "id": "18528188",
   "metadata": {
    "execution": {
     "iopub.execute_input": "2021-10-28T10:07:36.528780Z",
     "iopub.status.busy": "2021-10-28T10:07:36.528095Z",
     "iopub.status.idle": "2021-10-28T10:07:36.541867Z",
     "shell.execute_reply": "2021-10-28T10:07:36.541176Z",
     "shell.execute_reply.started": "2021-10-28T10:00:26.441271Z"
    },
    "papermill": {
     "duration": 0.078668,
     "end_time": "2021-10-28T10:07:36.542017",
     "exception": false,
     "start_time": "2021-10-28T10:07:36.463349",
     "status": "completed"
    },
    "tags": []
   },
   "outputs": [
    {
     "data": {
      "text/plain": [
       "(891, 912)"
      ]
     },
     "execution_count": 36,
     "metadata": {},
     "output_type": "execute_result"
    }
   ],
   "source": [
    "train_obj=pd.get_dummies(train_obj,drop_first=True)#use one-hot encoding to transform str to int and float\n",
    "train_obj.shape"
   ]
  },
  {
   "cell_type": "code",
   "execution_count": 37,
   "id": "47ed0d99",
   "metadata": {
    "execution": {
     "iopub.execute_input": "2021-10-28T10:07:36.662258Z",
     "iopub.status.busy": "2021-10-28T10:07:36.661077Z",
     "iopub.status.idle": "2021-10-28T10:07:36.740834Z",
     "shell.execute_reply": "2021-10-28T10:07:36.740214Z",
     "shell.execute_reply.started": "2021-10-28T10:00:34.677825Z"
    },
    "papermill": {
     "duration": 0.142805,
     "end_time": "2021-10-28T10:07:36.740986",
     "exception": false,
     "start_time": "2021-10-28T10:07:36.598181",
     "status": "completed"
    },
    "tags": []
   },
   "outputs": [
    {
     "name": "stdout",
     "output_type": "stream",
     "text": [
      "<class 'pandas.core.frame.DataFrame'>\n",
      "Int64Index: 891 entries, 1 to 891\n",
      "Columns: 920 entries, Survived to family_group_small\n",
      "dtypes: float64(3), int64(5), uint8(912)\n",
      "memory usage: 888.5 KB\n"
     ]
    }
   ],
   "source": [
    "Final_train=pd.concat([train_num,train_obj],axis=1)\n",
    "Final_train.info()"
   ]
  },
  {
   "cell_type": "code",
   "execution_count": 38,
   "id": "92a6ce8a",
   "metadata": {
    "execution": {
     "iopub.execute_input": "2021-10-28T10:07:36.878348Z",
     "iopub.status.busy": "2021-10-28T10:07:36.877344Z",
     "iopub.status.idle": "2021-10-28T10:07:36.887030Z",
     "shell.execute_reply": "2021-10-28T10:07:36.887591Z",
     "shell.execute_reply.started": "2021-10-28T10:00:44.877840Z"
    },
    "papermill": {
     "duration": 0.083213,
     "end_time": "2021-10-28T10:07:36.887789",
     "exception": false,
     "start_time": "2021-10-28T10:07:36.804576",
     "status": "completed"
    },
    "tags": []
   },
   "outputs": [],
   "source": [
    "#Determine the feature and lable\n",
    "X=Final_train.drop(\"Survived\",axis=1)\n",
    "y=Final_train[\"Survived\"]\n"
   ]
  },
  {
   "cell_type": "code",
   "execution_count": 39,
   "id": "6b1c04ff",
   "metadata": {
    "execution": {
     "iopub.execute_input": "2021-10-28T10:07:37.021164Z",
     "iopub.status.busy": "2021-10-28T10:07:37.020265Z",
     "iopub.status.idle": "2021-10-28T10:07:37.028427Z",
     "shell.execute_reply": "2021-10-28T10:07:37.029067Z",
     "shell.execute_reply.started": "2021-10-28T10:00:55.297875Z"
    },
    "papermill": {
     "duration": 0.083567,
     "end_time": "2021-10-28T10:07:37.029272",
     "exception": false,
     "start_time": "2021-10-28T10:07:36.945705",
     "status": "completed"
    },
    "tags": []
   },
   "outputs": [],
   "source": [
    "#Split the dataset to train and test\n",
    "from sklearn.model_selection import train_test_split\n",
    "X_train, X_test, y_train, y_test = train_test_split(X, y, test_size=0.30, random_state=101)"
   ]
  },
  {
   "cell_type": "code",
   "execution_count": 40,
   "id": "43685e4c",
   "metadata": {
    "execution": {
     "iopub.execute_input": "2021-10-28T10:07:37.157506Z",
     "iopub.status.busy": "2021-10-28T10:07:37.156741Z",
     "iopub.status.idle": "2021-10-28T10:07:37.222728Z",
     "shell.execute_reply": "2021-10-28T10:07:37.222060Z",
     "shell.execute_reply.started": "2021-10-28T10:01:25.637231Z"
    },
    "papermill": {
     "duration": 0.131964,
     "end_time": "2021-10-28T10:07:37.222907",
     "exception": false,
     "start_time": "2021-10-28T10:07:37.090943",
     "status": "completed"
    },
    "tags": []
   },
   "outputs": [],
   "source": [
    "from sklearn.preprocessing import StandardScaler#scaling the features\n",
    "scaler= StandardScaler()\n",
    "scaler.fit(X_train)\n",
    "X_train = scaler.transform(X_train)\n",
    "X_test = scaler.transform(X_test)"
   ]
  },
  {
   "cell_type": "code",
   "execution_count": 41,
   "id": "c0904d76",
   "metadata": {
    "execution": {
     "iopub.execute_input": "2021-10-28T10:07:37.341967Z",
     "iopub.status.busy": "2021-10-28T10:07:37.340848Z",
     "iopub.status.idle": "2021-10-28T10:07:37.471692Z",
     "shell.execute_reply": "2021-10-28T10:07:37.472571Z",
     "shell.execute_reply.started": "2021-10-28T10:01:53.392539Z"
    },
    "papermill": {
     "duration": 0.192129,
     "end_time": "2021-10-28T10:07:37.472874",
     "exception": false,
     "start_time": "2021-10-28T10:07:37.280745",
     "status": "completed"
    },
    "tags": []
   },
   "outputs": [],
   "source": [
    "from sklearn.linear_model import LogisticRegression\n",
    "model = LogisticRegression()\n",
    "model.fit(X_train,y_train)\n",
    "\n",
    "y_pred = model.predict(X_test)"
   ]
  },
  {
   "cell_type": "code",
   "execution_count": 42,
   "id": "07afc21e",
   "metadata": {
    "execution": {
     "iopub.execute_input": "2021-10-28T10:07:37.670272Z",
     "iopub.status.busy": "2021-10-28T10:07:37.669593Z",
     "iopub.status.idle": "2021-10-28T10:07:37.673500Z",
     "shell.execute_reply": "2021-10-28T10:07:37.672883Z",
     "shell.execute_reply.started": "2021-10-28T10:02:02.611355Z"
    },
    "papermill": {
     "duration": 0.066042,
     "end_time": "2021-10-28T10:07:37.673690",
     "exception": false,
     "start_time": "2021-10-28T10:07:37.607648",
     "status": "completed"
    },
    "tags": []
   },
   "outputs": [],
   "source": [
    "from sklearn.metrics import accuracy_score, confusion_matrix, classification_report, plot_confusion_matrix"
   ]
  },
  {
   "cell_type": "code",
   "execution_count": 43,
   "id": "77879862",
   "metadata": {
    "execution": {
     "iopub.execute_input": "2021-10-28T10:07:37.793709Z",
     "iopub.status.busy": "2021-10-28T10:07:37.792638Z",
     "iopub.status.idle": "2021-10-28T10:07:37.798755Z",
     "shell.execute_reply": "2021-10-28T10:07:37.799333Z",
     "shell.execute_reply.started": "2021-10-28T10:02:11.958883Z"
    },
    "papermill": {
     "duration": 0.068425,
     "end_time": "2021-10-28T10:07:37.799558",
     "exception": false,
     "start_time": "2021-10-28T10:07:37.731133",
     "status": "completed"
    },
    "tags": []
   },
   "outputs": [
    {
     "data": {
      "text/plain": [
       "0.8022388059701493"
      ]
     },
     "execution_count": 43,
     "metadata": {},
     "output_type": "execute_result"
    }
   ],
   "source": [
    "accuracy_score(y_test, y_pred)"
   ]
  },
  {
   "cell_type": "code",
   "execution_count": 44,
   "id": "6ee16d9d",
   "metadata": {
    "execution": {
     "iopub.execute_input": "2021-10-28T10:07:37.920740Z",
     "iopub.status.busy": "2021-10-28T10:07:37.920036Z",
     "iopub.status.idle": "2021-10-28T10:07:37.928376Z",
     "shell.execute_reply": "2021-10-28T10:07:37.929057Z",
     "shell.execute_reply.started": "2021-10-28T10:02:54.343297Z"
    },
    "papermill": {
     "duration": 0.071644,
     "end_time": "2021-10-28T10:07:37.929267",
     "exception": false,
     "start_time": "2021-10-28T10:07:37.857623",
     "status": "completed"
    },
    "tags": []
   },
   "outputs": [
    {
     "data": {
      "text/plain": [
       "array([[138,  16],\n",
       "       [ 37,  77]])"
      ]
     },
     "execution_count": 44,
     "metadata": {},
     "output_type": "execute_result"
    }
   ],
   "source": [
    "confusion_matrix(y_test, y_pred)"
   ]
  },
  {
   "cell_type": "code",
   "execution_count": 45,
   "id": "701c978f",
   "metadata": {
    "execution": {
     "iopub.execute_input": "2021-10-28T10:07:38.054424Z",
     "iopub.status.busy": "2021-10-28T10:07:38.053730Z",
     "iopub.status.idle": "2021-10-28T10:07:38.060875Z",
     "shell.execute_reply": "2021-10-28T10:07:38.061532Z",
     "shell.execute_reply.started": "2021-10-28T10:03:06.019606Z"
    },
    "papermill": {
     "duration": 0.072499,
     "end_time": "2021-10-28T10:07:38.061768",
     "exception": false,
     "start_time": "2021-10-28T10:07:37.989269",
     "status": "completed"
    },
    "tags": []
   },
   "outputs": [
    {
     "name": "stdout",
     "output_type": "stream",
     "text": [
      "              precision    recall  f1-score   support\n",
      "\n",
      "           0       0.79      0.90      0.84       154\n",
      "           1       0.83      0.68      0.74       114\n",
      "\n",
      "    accuracy                           0.80       268\n",
      "   macro avg       0.81      0.79      0.79       268\n",
      "weighted avg       0.81      0.80      0.80       268\n",
      "\n"
     ]
    }
   ],
   "source": [
    "print(classification_report(y_test, y_pred))"
   ]
  },
  {
   "cell_type": "code",
   "execution_count": 46,
   "id": "8d2eb441",
   "metadata": {
    "execution": {
     "iopub.execute_input": "2021-10-28T10:07:38.181980Z",
     "iopub.status.busy": "2021-10-28T10:07:38.181220Z",
     "iopub.status.idle": "2021-10-28T10:07:38.312726Z",
     "shell.execute_reply": "2021-10-28T10:07:38.312047Z"
    },
    "papermill": {
     "duration": 0.192766,
     "end_time": "2021-10-28T10:07:38.313070",
     "exception": true,
     "start_time": "2021-10-28T10:07:38.120304",
     "status": "failed"
    },
    "tags": []
   },
   "outputs": [
    {
     "ename": "NameError",
     "evalue": "name 'gender_submission' is not defined",
     "output_type": "error",
     "traceback": [
      "\u001b[0;31m---------------------------------------------------------------------------\u001b[0m",
      "\u001b[0;31mNameError\u001b[0m                                 Traceback (most recent call last)",
      "\u001b[0;32m/tmp/ipykernel_20/183165603.py\u001b[0m in \u001b[0;36m<module>\u001b[0;34m\u001b[0m\n\u001b[1;32m      4\u001b[0m \u001b[0;34m\u001b[0m\u001b[0m\n\u001b[1;32m      5\u001b[0m \u001b[0mSubmission\u001b[0m\u001b[0;34m[\u001b[0m\u001b[0;34m'PassengerId'\u001b[0m\u001b[0;34m]\u001b[0m \u001b[0;34m=\u001b[0m \u001b[0mpd\u001b[0m\u001b[0;34m.\u001b[0m\u001b[0mread_csv\u001b[0m\u001b[0;34m(\u001b[0m\u001b[0;34m'../input/titanic/test.csv'\u001b[0m\u001b[0;34m)\u001b[0m\u001b[0;34m[\u001b[0m\u001b[0;34m'PassengerId'\u001b[0m\u001b[0;34m]\u001b[0m\u001b[0;34m\u001b[0m\u001b[0;34m\u001b[0m\u001b[0m\n\u001b[0;32m----> 6\u001b[0;31m \u001b[0mSubmission\u001b[0m\u001b[0;34m[\u001b[0m\u001b[0;34m'Survived'\u001b[0m\u001b[0;34m]\u001b[0m \u001b[0;34m=\u001b[0m \u001b[0mpd\u001b[0m\u001b[0;34m.\u001b[0m\u001b[0mDataFrame\u001b[0m\u001b[0;34m(\u001b[0m\u001b[0mgender_submission\u001b[0m\u001b[0;34m)\u001b[0m\u001b[0;34m\u001b[0m\u001b[0;34m\u001b[0m\u001b[0m\n\u001b[0m\u001b[1;32m      7\u001b[0m \u001b[0mSubmission\u001b[0m\u001b[0;34m.\u001b[0m\u001b[0mreset_index\u001b[0m\u001b[0;34m(\u001b[0m\u001b[0mdrop\u001b[0m\u001b[0;34m=\u001b[0m\u001b[0;32mTrue\u001b[0m\u001b[0;34m,\u001b[0m \u001b[0minplace\u001b[0m\u001b[0;34m=\u001b[0m\u001b[0;32mTrue\u001b[0m\u001b[0;34m)\u001b[0m\u001b[0;34m\u001b[0m\u001b[0;34m\u001b[0m\u001b[0m\n\u001b[1;32m      8\u001b[0m \u001b[0;34m\u001b[0m\u001b[0m\n",
      "\u001b[0;31mNameError\u001b[0m: name 'gender_submission' is not defined"
     ]
    }
   ],
   "source": [
    "# Preparing data for submission\n",
    "column_names = ['PassengerId', 'Survived']\n",
    "Submission = pd.DataFrame(columns = column_names)\n",
    "\n",
    "Submission['PassengerId'] = pd.read_csv('../input/titanic/test.csv')['PassengerId']\n",
    "Submission['Survived'] = pd.DataFrame(gender_submission)\n",
    "Submission.reset_index(drop=True, inplace=True)\n",
    "\n",
    "# Saving prediction\n",
    "Submission.to_csv(r'./submission.csv', index=False)\n",
    "Submission.head()"
   ]
  }
 ],
 "metadata": {
  "kernelspec": {
   "display_name": "Python 3",
   "language": "python",
   "name": "python3"
  },
  "language_info": {
   "codemirror_mode": {
    "name": "ipython",
    "version": 3
   },
   "file_extension": ".py",
   "mimetype": "text/x-python",
   "name": "python",
   "nbconvert_exporter": "python",
   "pygments_lexer": "ipython3",
   "version": "3.7.10"
  },
  "papermill": {
   "default_parameters": {},
   "duration": 29.339029,
   "end_time": "2021-10-28T10:07:39.384917",
   "environment_variables": {},
   "exception": true,
   "input_path": "__notebook__.ipynb",
   "output_path": "__notebook__.ipynb",
   "parameters": {},
   "start_time": "2021-10-28T10:07:10.045888",
   "version": "2.3.3"
  }
 },
 "nbformat": 4,
 "nbformat_minor": 5
}
